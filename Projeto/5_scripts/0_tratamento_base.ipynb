{
 "cells": [
  {
   "cell_type": "code",
   "execution_count": 5,
   "metadata": {},
   "outputs": [],
   "source": [
    "import pandas as pd\n",
    "from datetime import datetime"
   ]
  },
  {
   "cell_type": "code",
   "execution_count": 6,
   "metadata": {},
   "outputs": [],
   "source": [
    "dados = pd.read_csv('../1_bases_originais/futebol.csv', sep=';', encoding='UTF-8')"
   ]
  },
  {
   "cell_type": "code",
   "execution_count": 7,
   "metadata": {},
   "outputs": [
    {
     "name": "stderr",
     "output_type": "stream",
     "text": [
      "<>:2: SyntaxWarning: invalid escape sequence '\\W'\n",
      "<>:3: SyntaxWarning: invalid escape sequence '\\W'\n",
      "<>:4: SyntaxWarning: invalid escape sequence '\\W'\n",
      "<>:2: SyntaxWarning: invalid escape sequence '\\W'\n",
      "<>:3: SyntaxWarning: invalid escape sequence '\\W'\n",
      "<>:4: SyntaxWarning: invalid escape sequence '\\W'\n",
      "C:\\Users\\luan_\\AppData\\Local\\Temp\\ipykernel_21384\\2775261048.py:2: SyntaxWarning: invalid escape sequence '\\W'\n",
      "  dados.columns = dados.columns.str.replace('\\W', '')\n",
      "C:\\Users\\luan_\\AppData\\Local\\Temp\\ipykernel_21384\\2775261048.py:3: SyntaxWarning: invalid escape sequence '\\W'\n",
      "  dados.home_team_name=dados.home_team_name.str.replace('\\W','')\n",
      "C:\\Users\\luan_\\AppData\\Local\\Temp\\ipykernel_21384\\2775261048.py:4: SyntaxWarning: invalid escape sequence '\\W'\n",
      "  dados.away_team_name=dados.away_team_name.str.replace('\\W','')\n"
     ]
    }
   ],
   "source": [
    "dados.columns = dados.columns.str.lower()\n",
    "dados.columns = dados.columns.str.replace('\\W', '')\n",
    "dados.home_team_name=dados.home_team_name.str.replace('\\W','')\n",
    "dados.away_team_name=dados.away_team_name.str.replace('\\W','')"
   ]
  },
  {
   "cell_type": "code",
   "execution_count": 8,
   "metadata": {},
   "outputs": [
    {
     "data": {
      "text/html": [
       "<div>\n",
       "<style scoped>\n",
       "    .dataframe tbody tr th:only-of-type {\n",
       "        vertical-align: middle;\n",
       "    }\n",
       "\n",
       "    .dataframe tbody tr th {\n",
       "        vertical-align: top;\n",
       "    }\n",
       "\n",
       "    .dataframe thead th {\n",
       "        text-align: right;\n",
       "    }\n",
       "</style>\n",
       "<table border=\"1\" class=\"dataframe\">\n",
       "  <thead>\n",
       "    <tr style=\"text-align: right;\">\n",
       "      <th></th>\n",
       "      <th>date_gmt</th>\n",
       "      <th>status</th>\n",
       "      <th>attendance</th>\n",
       "      <th>home_team_name</th>\n",
       "      <th>away_team_name</th>\n",
       "      <th>referee</th>\n",
       "      <th>game week</th>\n",
       "      <th>pre-match ppg (home)</th>\n",
       "      <th>pre-match ppg (away)</th>\n",
       "      <th>home_ppg</th>\n",
       "      <th>away_ppg</th>\n",
       "      <th>home_team_goal_count</th>\n",
       "      <th>away_team_goal_count</th>\n",
       "      <th>total_goal_count</th>\n",
       "      <th>total_goals_at_half_time</th>\n",
       "    </tr>\n",
       "  </thead>\n",
       "  <tbody>\n",
       "    <tr>\n",
       "      <th>0</th>\n",
       "      <td>Apr 16 2021 - 10:00pm</td>\n",
       "      <td>complete</td>\n",
       "      <td>NaN</td>\n",
       "      <td>Guaireña</td>\n",
       "      <td>Olimpia</td>\n",
       "      <td>Julio César Quintana Rodríguez</td>\n",
       "      <td>12.0</td>\n",
       "      <td>2.20</td>\n",
       "      <td>2.40</td>\n",
       "      <td>1.30</td>\n",
       "      <td>2.10</td>\n",
       "      <td>1</td>\n",
       "      <td>2</td>\n",
       "      <td>3</td>\n",
       "      <td>3</td>\n",
       "    </tr>\n",
       "    <tr>\n",
       "      <th>1</th>\n",
       "      <td>Oct 26 2019 - 2:00pm</td>\n",
       "      <td>complete</td>\n",
       "      <td>14008.0</td>\n",
       "      <td>Millwall</td>\n",
       "      <td>Stoke City</td>\n",
       "      <td>Darren England</td>\n",
       "      <td>14.0</td>\n",
       "      <td>1.83</td>\n",
       "      <td>0.67</td>\n",
       "      <td>1.65</td>\n",
       "      <td>0.87</td>\n",
       "      <td>2</td>\n",
       "      <td>0</td>\n",
       "      <td>2</td>\n",
       "      <td>1</td>\n",
       "    </tr>\n",
       "    <tr>\n",
       "      <th>2</th>\n",
       "      <td>Apr 03 2013 - 4:30pm</td>\n",
       "      <td>complete</td>\n",
       "      <td>25258.0</td>\n",
       "      <td>Sampdoria</td>\n",
       "      <td>Inter Milan</td>\n",
       "      <td>Luca Banti</td>\n",
       "      <td>29.0</td>\n",
       "      <td>1.64</td>\n",
       "      <td>1.57</td>\n",
       "      <td>1.42</td>\n",
       "      <td>1.37</td>\n",
       "      <td>0</td>\n",
       "      <td>2</td>\n",
       "      <td>2</td>\n",
       "      <td>1</td>\n",
       "    </tr>\n",
       "  </tbody>\n",
       "</table>\n",
       "</div>"
      ],
      "text/plain": [
       "                date_gmt    status  attendance home_team_name away_team_name  \\\n",
       "0  Apr 16 2021 - 10:00pm  complete         NaN       Guaireña        Olimpia   \n",
       "1   Oct 26 2019 - 2:00pm  complete     14008.0       Millwall     Stoke City   \n",
       "2   Apr 03 2013 - 4:30pm  complete     25258.0      Sampdoria    Inter Milan   \n",
       "\n",
       "                          referee  game week  pre-match ppg (home)  \\\n",
       "0  Julio César Quintana Rodríguez       12.0                  2.20   \n",
       "1                  Darren England       14.0                  1.83   \n",
       "2                      Luca Banti       29.0                  1.64   \n",
       "\n",
       "   pre-match ppg (away)  home_ppg  away_ppg  home_team_goal_count  \\\n",
       "0                  2.40      1.30      2.10                     1   \n",
       "1                  0.67      1.65      0.87                     2   \n",
       "2                  1.57      1.42      1.37                     0   \n",
       "\n",
       "   away_team_goal_count  total_goal_count  total_goals_at_half_time  \n",
       "0                     2                 3                         3  \n",
       "1                     0                 2                         1  \n",
       "2                     2                 2                         1  "
      ]
     },
     "execution_count": 8,
     "metadata": {},
     "output_type": "execute_result"
    }
   ],
   "source": [
    "dados.head(3)"
   ]
  },
  {
   "cell_type": "code",
   "execution_count": 9,
   "metadata": {},
   "outputs": [
    {
     "data": {
      "text/plain": [
       "'Apr 16 2021 - 10:00pm'"
      ]
     },
     "execution_count": 9,
     "metadata": {},
     "output_type": "execute_result"
    }
   ],
   "source": [
    "dados.date_gmt.loc[0]"
   ]
  },
  {
   "cell_type": "code",
   "execution_count": 10,
   "metadata": {},
   "outputs": [
    {
     "data": {
      "text/plain": [
       "str"
      ]
     },
     "execution_count": 10,
     "metadata": {},
     "output_type": "execute_result"
    }
   ],
   "source": [
    "type(dados.date_gmt.loc[0])"
   ]
  },
  {
   "cell_type": "code",
   "execution_count": 11,
   "metadata": {},
   "outputs": [],
   "source": [
    "dados['date_gmt'] = dados.date_gmt.replace({\"-\":''})"
   ]
  },
  {
   "cell_type": "code",
   "execution_count": 12,
   "metadata": {},
   "outputs": [
    {
     "name": "stderr",
     "output_type": "stream",
     "text": [
      "C:\\Users\\luan_\\AppData\\Local\\Temp\\ipykernel_21384\\616533910.py:1: UserWarning: Could not infer format, so each element will be parsed individually, falling back to `dateutil`. To ensure parsing is consistent and as-expected, please specify a format.\n",
      "  dados['datanova'] = pd.to_datetime(dados['date_gmt'])\n"
     ]
    }
   ],
   "source": [
    "dados['datanova'] = pd.to_datetime(dados['date_gmt'])"
   ]
  },
  {
   "cell_type": "code",
   "execution_count": 13,
   "metadata": {},
   "outputs": [],
   "source": [
    "dados['ano']=pd.DatetimeIndex(dados['datanova']).year\n",
    "dados['mes']=pd.DatetimeIndex(dados['datanova']).month"
   ]
  },
  {
   "cell_type": "code",
   "execution_count": 14,
   "metadata": {},
   "outputs": [
    {
     "data": {
      "text/plain": [
       "0        202104\n",
       "1        201910\n",
       "2        201304\n",
       "3        201712\n",
       "4        201811\n",
       "          ...  \n",
       "56580    201908\n",
       "56581    201603\n",
       "56582    201312\n",
       "56583    201306\n",
       "56584    201903\n",
       "Name: anomes, Length: 56585, dtype: object"
      ]
     },
     "execution_count": 14,
     "metadata": {},
     "output_type": "execute_result"
    }
   ],
   "source": [
    "dados['anomes']=dados['ano'].astype(str) + dados['mes'].astype(str)\n",
    "dados.loc[dados.mes<10, 'anomes']=dados['ano'].astype(str) +'0'+ dados['mes'].astype(str)\n",
    "dados.anomes"
   ]
  },
  {
   "cell_type": "code",
   "execution_count": 15,
   "metadata": {},
   "outputs": [
    {
     "data": {
      "text/html": [
       "<div>\n",
       "<style scoped>\n",
       "    .dataframe tbody tr th:only-of-type {\n",
       "        vertical-align: middle;\n",
       "    }\n",
       "\n",
       "    .dataframe tbody tr th {\n",
       "        vertical-align: top;\n",
       "    }\n",
       "\n",
       "    .dataframe thead th {\n",
       "        text-align: right;\n",
       "    }\n",
       "</style>\n",
       "<table border=\"1\" class=\"dataframe\">\n",
       "  <thead>\n",
       "    <tr style=\"text-align: right;\">\n",
       "      <th></th>\n",
       "      <th>date_gmt</th>\n",
       "      <th>status</th>\n",
       "      <th>attendance</th>\n",
       "      <th>home_team_name</th>\n",
       "      <th>away_team_name</th>\n",
       "      <th>referee</th>\n",
       "      <th>game week</th>\n",
       "      <th>pre-match ppg (home)</th>\n",
       "      <th>pre-match ppg (away)</th>\n",
       "      <th>home_ppg</th>\n",
       "      <th>away_ppg</th>\n",
       "      <th>home_team_goal_count</th>\n",
       "      <th>away_team_goal_count</th>\n",
       "      <th>total_goal_count</th>\n",
       "      <th>total_goals_at_half_time</th>\n",
       "      <th>datanova</th>\n",
       "      <th>ano</th>\n",
       "      <th>mes</th>\n",
       "      <th>anomes</th>\n",
       "    </tr>\n",
       "  </thead>\n",
       "  <tbody>\n",
       "    <tr>\n",
       "      <th>0</th>\n",
       "      <td>Apr 16 2021 - 10:00pm</td>\n",
       "      <td>complete</td>\n",
       "      <td>NaN</td>\n",
       "      <td>Guaireña</td>\n",
       "      <td>Olimpia</td>\n",
       "      <td>Julio César Quintana Rodríguez</td>\n",
       "      <td>12.0</td>\n",
       "      <td>2.20</td>\n",
       "      <td>2.40</td>\n",
       "      <td>1.30</td>\n",
       "      <td>2.10</td>\n",
       "      <td>1</td>\n",
       "      <td>2</td>\n",
       "      <td>3</td>\n",
       "      <td>3</td>\n",
       "      <td>2021-04-16 22:00:00</td>\n",
       "      <td>2021</td>\n",
       "      <td>4</td>\n",
       "      <td>202104</td>\n",
       "    </tr>\n",
       "    <tr>\n",
       "      <th>1</th>\n",
       "      <td>Oct 26 2019 - 2:00pm</td>\n",
       "      <td>complete</td>\n",
       "      <td>14008.0</td>\n",
       "      <td>Millwall</td>\n",
       "      <td>Stoke City</td>\n",
       "      <td>Darren England</td>\n",
       "      <td>14.0</td>\n",
       "      <td>1.83</td>\n",
       "      <td>0.67</td>\n",
       "      <td>1.65</td>\n",
       "      <td>0.87</td>\n",
       "      <td>2</td>\n",
       "      <td>0</td>\n",
       "      <td>2</td>\n",
       "      <td>1</td>\n",
       "      <td>2019-10-26 14:00:00</td>\n",
       "      <td>2019</td>\n",
       "      <td>10</td>\n",
       "      <td>201910</td>\n",
       "    </tr>\n",
       "    <tr>\n",
       "      <th>2</th>\n",
       "      <td>Apr 03 2013 - 4:30pm</td>\n",
       "      <td>complete</td>\n",
       "      <td>25258.0</td>\n",
       "      <td>Sampdoria</td>\n",
       "      <td>Inter Milan</td>\n",
       "      <td>Luca Banti</td>\n",
       "      <td>29.0</td>\n",
       "      <td>1.64</td>\n",
       "      <td>1.57</td>\n",
       "      <td>1.42</td>\n",
       "      <td>1.37</td>\n",
       "      <td>0</td>\n",
       "      <td>2</td>\n",
       "      <td>2</td>\n",
       "      <td>1</td>\n",
       "      <td>2013-04-03 16:30:00</td>\n",
       "      <td>2013</td>\n",
       "      <td>4</td>\n",
       "      <td>201304</td>\n",
       "    </tr>\n",
       "  </tbody>\n",
       "</table>\n",
       "</div>"
      ],
      "text/plain": [
       "                date_gmt    status  attendance home_team_name away_team_name  \\\n",
       "0  Apr 16 2021 - 10:00pm  complete         NaN       Guaireña        Olimpia   \n",
       "1   Oct 26 2019 - 2:00pm  complete     14008.0       Millwall     Stoke City   \n",
       "2   Apr 03 2013 - 4:30pm  complete     25258.0      Sampdoria    Inter Milan   \n",
       "\n",
       "                          referee  game week  pre-match ppg (home)  \\\n",
       "0  Julio César Quintana Rodríguez       12.0                  2.20   \n",
       "1                  Darren England       14.0                  1.83   \n",
       "2                      Luca Banti       29.0                  1.64   \n",
       "\n",
       "   pre-match ppg (away)  home_ppg  away_ppg  home_team_goal_count  \\\n",
       "0                  2.40      1.30      2.10                     1   \n",
       "1                  0.67      1.65      0.87                     2   \n",
       "2                  1.57      1.42      1.37                     0   \n",
       "\n",
       "   away_team_goal_count  total_goal_count  total_goals_at_half_time  \\\n",
       "0                     2                 3                         3   \n",
       "1                     0                 2                         1   \n",
       "2                     2                 2                         1   \n",
       "\n",
       "             datanova   ano  mes  anomes  \n",
       "0 2021-04-16 22:00:00  2021    4  202104  \n",
       "1 2019-10-26 14:00:00  2019   10  201910  \n",
       "2 2013-04-03 16:30:00  2013    4  201304  "
      ]
     },
     "execution_count": 15,
     "metadata": {},
     "output_type": "execute_result"
    }
   ],
   "source": [
    "dados.iloc[:,:].head(3)"
   ]
  },
  {
   "cell_type": "code",
   "execution_count": 16,
   "metadata": {},
   "outputs": [
    {
     "name": "stderr",
     "output_type": "stream",
     "text": [
      "<>:2: SyntaxWarning: invalid escape sequence '\\W'\n",
      "<>:2: SyntaxWarning: invalid escape sequence '\\W'\n",
      "C:\\Users\\luan_\\AppData\\Local\\Temp\\ipykernel_21384\\1091671883.py:2: SyntaxWarning: invalid escape sequence '\\W'\n",
      "  '\\W':'_',\n"
     ]
    }
   ],
   "source": [
    "dados = dados.replace({'á':'a','ã':'a', 'â':'a', 'í':'i',\n",
    "                '\\W':'_',\n",
    "                'ÅŸ':'s',\n",
    "                'Ä°':'I',\n",
    "                'Ä±':'i',\n",
    "                'Ã¶':'o',\n",
    "                'Ã§':'c',\n",
    "                'ÄŸ':'g',\n",
    "                'Ã¼':'u',\n",
    "                'Ã©':'e',\n",
    "                'Ã¡':'a',\n",
    "                'Ã³':'o',\n",
    "                'Ã±':'nh',\n",
    "                '&':'',\n",
    "                'Ã…Ë†':'n',\n",
    "                'Ã§':'c',\n",
    "                ' ':'',\n",
    "                'Ã­':'i',\n",
    "                'Ã£':'a',\n",
    "                'Ãº':'u',\n",
    "                'Ã':'a',\n",
    "                'Ãª':'e',\n",
    "                'Ã‘':'N',\n",
    "                'aÂ¢':'a',\n",
    "                'aÂª':'e',\n",
    "                'aÂ':'a',\n",
    "                \"á\":\"a\",\n",
    "                \"é\":\"e\",\n",
    "                \"í\":\"i\",\n",
    "                \"ó\":\"o\",\n",
    "                \"ú\":\"u\",\n",
    "                \"ã\":\"a\",\n",
    "                \"õ\":\"o\",\n",
    "                \"aª\":\"e\",\n",
    "                \"á\":\"a\",\n",
    "                \"é\":\"e\",\n",
    "                \"í\":\"i\",\n",
    "                \"ó\":\"o\",\n",
    "                \"ú\":\"u\",\n",
    "                \"ã\":\"a\",\n",
    "                \"õ\":\"o\",\n",
    "                \"ê\":\"e\",\n",
    "                \"â\":\"a\",\n",
    "                \"ô\":\"o\",\n",
    "                \"ê\":\"e\",\n",
    "                \"â\":\"a\",\n",
    "                \"ô\":\"o\"              \n",
    "              \n",
    "              }, regex=True)"
   ]
  },
  {
   "cell_type": "code",
   "execution_count": 17,
   "metadata": {},
   "outputs": [
    {
     "data": {
      "text/html": [
       "<div>\n",
       "<style scoped>\n",
       "    .dataframe tbody tr th:only-of-type {\n",
       "        vertical-align: middle;\n",
       "    }\n",
       "\n",
       "    .dataframe tbody tr th {\n",
       "        vertical-align: top;\n",
       "    }\n",
       "\n",
       "    .dataframe thead th {\n",
       "        text-align: right;\n",
       "    }\n",
       "</style>\n",
       "<table border=\"1\" class=\"dataframe\">\n",
       "  <thead>\n",
       "    <tr style=\"text-align: right;\">\n",
       "      <th></th>\n",
       "      <th>date_gmt</th>\n",
       "      <th>status</th>\n",
       "      <th>attendance</th>\n",
       "      <th>home_team_name</th>\n",
       "      <th>away_team_name</th>\n",
       "      <th>referee</th>\n",
       "      <th>game week</th>\n",
       "      <th>pre-match ppg (home)</th>\n",
       "      <th>pre-match ppg (away)</th>\n",
       "      <th>home_ppg</th>\n",
       "      <th>away_ppg</th>\n",
       "      <th>home_team_goal_count</th>\n",
       "      <th>away_team_goal_count</th>\n",
       "      <th>total_goal_count</th>\n",
       "      <th>total_goals_at_half_time</th>\n",
       "      <th>datanova</th>\n",
       "      <th>ano</th>\n",
       "      <th>mes</th>\n",
       "      <th>anomes</th>\n",
       "    </tr>\n",
       "  </thead>\n",
       "  <tbody>\n",
       "    <tr>\n",
       "      <th>0</th>\n",
       "      <td>Apr_16_2021___10_00pm</td>\n",
       "      <td>complete</td>\n",
       "      <td>NaN</td>\n",
       "      <td>Guaireña</td>\n",
       "      <td>Olimpia</td>\n",
       "      <td>Julio_Cesar_Quintana_Rodriguez</td>\n",
       "      <td>12.0</td>\n",
       "      <td>2.20</td>\n",
       "      <td>2.40</td>\n",
       "      <td>1.30</td>\n",
       "      <td>2.10</td>\n",
       "      <td>1</td>\n",
       "      <td>2</td>\n",
       "      <td>3</td>\n",
       "      <td>3</td>\n",
       "      <td>2021-04-16 22:00:00</td>\n",
       "      <td>2021</td>\n",
       "      <td>4</td>\n",
       "      <td>202104</td>\n",
       "    </tr>\n",
       "    <tr>\n",
       "      <th>1</th>\n",
       "      <td>Oct_26_2019___2_00pm</td>\n",
       "      <td>complete</td>\n",
       "      <td>14008.0</td>\n",
       "      <td>Millwall</td>\n",
       "      <td>Stoke_City</td>\n",
       "      <td>Darren_England</td>\n",
       "      <td>14.0</td>\n",
       "      <td>1.83</td>\n",
       "      <td>0.67</td>\n",
       "      <td>1.65</td>\n",
       "      <td>0.87</td>\n",
       "      <td>2</td>\n",
       "      <td>0</td>\n",
       "      <td>2</td>\n",
       "      <td>1</td>\n",
       "      <td>2019-10-26 14:00:00</td>\n",
       "      <td>2019</td>\n",
       "      <td>10</td>\n",
       "      <td>201910</td>\n",
       "    </tr>\n",
       "    <tr>\n",
       "      <th>2</th>\n",
       "      <td>Apr_03_2013___4_30pm</td>\n",
       "      <td>complete</td>\n",
       "      <td>25258.0</td>\n",
       "      <td>Sampdoria</td>\n",
       "      <td>Inter_Milan</td>\n",
       "      <td>Luca_Banti</td>\n",
       "      <td>29.0</td>\n",
       "      <td>1.64</td>\n",
       "      <td>1.57</td>\n",
       "      <td>1.42</td>\n",
       "      <td>1.37</td>\n",
       "      <td>0</td>\n",
       "      <td>2</td>\n",
       "      <td>2</td>\n",
       "      <td>1</td>\n",
       "      <td>2013-04-03 16:30:00</td>\n",
       "      <td>2013</td>\n",
       "      <td>4</td>\n",
       "      <td>201304</td>\n",
       "    </tr>\n",
       "  </tbody>\n",
       "</table>\n",
       "</div>"
      ],
      "text/plain": [
       "                date_gmt    status  attendance home_team_name away_team_name  \\\n",
       "0  Apr_16_2021___10_00pm  complete         NaN       Guaireña        Olimpia   \n",
       "1   Oct_26_2019___2_00pm  complete     14008.0       Millwall     Stoke_City   \n",
       "2   Apr_03_2013___4_30pm  complete     25258.0      Sampdoria    Inter_Milan   \n",
       "\n",
       "                          referee  game week  pre-match ppg (home)  \\\n",
       "0  Julio_Cesar_Quintana_Rodriguez       12.0                  2.20   \n",
       "1                  Darren_England       14.0                  1.83   \n",
       "2                      Luca_Banti       29.0                  1.64   \n",
       "\n",
       "   pre-match ppg (away)  home_ppg  away_ppg  home_team_goal_count  \\\n",
       "0                  2.40      1.30      2.10                     1   \n",
       "1                  0.67      1.65      0.87                     2   \n",
       "2                  1.57      1.42      1.37                     0   \n",
       "\n",
       "   away_team_goal_count  total_goal_count  total_goals_at_half_time  \\\n",
       "0                     2                 3                         3   \n",
       "1                     0                 2                         1   \n",
       "2                     2                 2                         1   \n",
       "\n",
       "             datanova   ano  mes  anomes  \n",
       "0 2021-04-16 22:00:00  2021    4  202104  \n",
       "1 2019-10-26 14:00:00  2019   10  201910  \n",
       "2 2013-04-03 16:30:00  2013    4  201304  "
      ]
     },
     "execution_count": 17,
     "metadata": {},
     "output_type": "execute_result"
    }
   ],
   "source": [
    "dados.head(3)"
   ]
  },
  {
   "cell_type": "code",
   "execution_count": 18,
   "metadata": {},
   "outputs": [
    {
     "data": {
      "text/plain": [
       "date_gmt                        0\n",
       "status                          0\n",
       "attendance                  22536\n",
       "home_team_name                  0\n",
       "away_team_name                  0\n",
       "referee                     26348\n",
       "game week                   12015\n",
       "pre-match ppg (home)            0\n",
       "pre-match ppg (away)            0\n",
       "home_ppg                        0\n",
       "away_ppg                        0\n",
       "home_team_goal_count            0\n",
       "away_team_goal_count            0\n",
       "total_goal_count                0\n",
       "total_goals_at_half_time        0\n",
       "datanova                        0\n",
       "ano                             0\n",
       "mes                             0\n",
       "anomes                          0\n",
       "dtype: int64"
      ]
     },
     "execution_count": 18,
     "metadata": {},
     "output_type": "execute_result"
    }
   ],
   "source": [
    "dados.isnull().sum()"
   ]
  },
  {
   "cell_type": "code",
   "execution_count": 19,
   "metadata": {},
   "outputs": [],
   "source": [
    "dados.fillna(0, inplace=True)"
   ]
  },
  {
   "cell_type": "code",
   "execution_count": 20,
   "metadata": {},
   "outputs": [],
   "source": [
    "dados.to_csv('../2_bases_tratadas/futebol2.csv', sep=';', index=False)"
   ]
  },
  {
   "cell_type": "code",
   "execution_count": 21,
   "metadata": {},
   "outputs": [
    {
     "data": {
      "text/html": [
       "<div>\n",
       "<style scoped>\n",
       "    .dataframe tbody tr th:only-of-type {\n",
       "        vertical-align: middle;\n",
       "    }\n",
       "\n",
       "    .dataframe tbody tr th {\n",
       "        vertical-align: top;\n",
       "    }\n",
       "\n",
       "    .dataframe thead th {\n",
       "        text-align: right;\n",
       "    }\n",
       "</style>\n",
       "<table border=\"1\" class=\"dataframe\">\n",
       "  <thead>\n",
       "    <tr style=\"text-align: right;\">\n",
       "      <th></th>\n",
       "      <th>datanova</th>\n",
       "      <th>home_team_name</th>\n",
       "      <th>home_team_goal_count</th>\n",
       "    </tr>\n",
       "  </thead>\n",
       "  <tbody>\n",
       "    <tr>\n",
       "      <th>0</th>\n",
       "      <td>2010-06-29 17:00:00</td>\n",
       "      <td>FC_Santa_Coloma</td>\n",
       "      <td>0</td>\n",
       "    </tr>\n",
       "    <tr>\n",
       "      <th>1</th>\n",
       "      <td>2010-06-30 18:30:00</td>\n",
       "      <td>Tre_Fiori</td>\n",
       "      <td>0</td>\n",
       "    </tr>\n",
       "    <tr>\n",
       "      <th>2</th>\n",
       "      <td>2010-07-06 16:00:00</td>\n",
       "      <td>Birkirkara</td>\n",
       "      <td>4</td>\n",
       "    </tr>\n",
       "    <tr>\n",
       "      <th>3</th>\n",
       "      <td>2010-07-07 16:00:00</td>\n",
       "      <td>Rudar</td>\n",
       "      <td>4</td>\n",
       "    </tr>\n",
       "    <tr>\n",
       "      <th>4</th>\n",
       "      <td>2010-07-13 15:00:00</td>\n",
       "      <td>İnter_Bakı</td>\n",
       "      <td>0</td>\n",
       "    </tr>\n",
       "    <tr>\n",
       "      <th>...</th>\n",
       "      <td>...</td>\n",
       "      <td>...</td>\n",
       "      <td>...</td>\n",
       "    </tr>\n",
       "    <tr>\n",
       "      <th>54542</th>\n",
       "      <td>2021-08-02 00:00:00</td>\n",
       "      <td>CS_Emelec</td>\n",
       "      <td>2</td>\n",
       "    </tr>\n",
       "    <tr>\n",
       "      <th>54543</th>\n",
       "      <td>2021-08-02 00:00:00</td>\n",
       "      <td>LA_Galaxy_II</td>\n",
       "      <td>0</td>\n",
       "    </tr>\n",
       "    <tr>\n",
       "      <th>54544</th>\n",
       "      <td>2021-08-02 00:00:00</td>\n",
       "      <td>Melipilla</td>\n",
       "      <td>2</td>\n",
       "    </tr>\n",
       "    <tr>\n",
       "      <th>54545</th>\n",
       "      <td>2021-08-02 01:10:00</td>\n",
       "      <td>Jaguares_de_Cordoba</td>\n",
       "      <td>2</td>\n",
       "    </tr>\n",
       "    <tr>\n",
       "      <th>54546</th>\n",
       "      <td>2021-08-02 18:00:00</td>\n",
       "      <td>Villa_Española</td>\n",
       "      <td>1</td>\n",
       "    </tr>\n",
       "  </tbody>\n",
       "</table>\n",
       "<p>54547 rows × 3 columns</p>\n",
       "</div>"
      ],
      "text/plain": [
       "                 datanova       home_team_name  home_team_goal_count\n",
       "0     2010-06-29 17:00:00      FC_Santa_Coloma                     0\n",
       "1     2010-06-30 18:30:00            Tre_Fiori                     0\n",
       "2     2010-07-06 16:00:00           Birkirkara                     4\n",
       "3     2010-07-07 16:00:00                Rudar                     4\n",
       "4     2010-07-13 15:00:00           İnter_Bakı                     0\n",
       "...                   ...                  ...                   ...\n",
       "54542 2021-08-02 00:00:00            CS_Emelec                     2\n",
       "54543 2021-08-02 00:00:00         LA_Galaxy_II                     0\n",
       "54544 2021-08-02 00:00:00            Melipilla                     2\n",
       "54545 2021-08-02 01:10:00  Jaguares_de_Cordoba                     2\n",
       "54546 2021-08-02 18:00:00       Villa_Española                     1\n",
       "\n",
       "[54547 rows x 3 columns]"
      ]
     },
     "execution_count": 21,
     "metadata": {},
     "output_type": "execute_result"
    }
   ],
   "source": [
    "dados.groupby(by=['datanova', 'home_team_name'])['home_team_goal_count'].sum().reset_index()"
   ]
  },
  {
   "cell_type": "code",
   "execution_count": 22,
   "metadata": {},
   "outputs": [],
   "source": [
    "dados.groupby(by=['home_team_name','datanova'])['home_team_goal_count'].mean().reset_index().rename(columns={'home_team_goal_count':'gols'}).to_csv('../3_bases_upload/gols.csv', sep=';', index=False)"
   ]
  },
  {
   "cell_type": "markdown",
   "metadata": {},
   "source": [
    "# Melhorando a visão de gols"
   ]
  },
  {
   "cell_type": "code",
   "execution_count": 23,
   "metadata": {},
   "outputs": [
    {
     "data": {
      "text/html": [
       "<div>\n",
       "<style scoped>\n",
       "    .dataframe tbody tr th:only-of-type {\n",
       "        vertical-align: middle;\n",
       "    }\n",
       "\n",
       "    .dataframe tbody tr th {\n",
       "        vertical-align: top;\n",
       "    }\n",
       "\n",
       "    .dataframe thead th {\n",
       "        text-align: right;\n",
       "    }\n",
       "</style>\n",
       "<table border=\"1\" class=\"dataframe\">\n",
       "  <thead>\n",
       "    <tr style=\"text-align: right;\">\n",
       "      <th></th>\n",
       "      <th>anomes</th>\n",
       "      <th>home_team_name</th>\n",
       "      <th>home_team_goal_count</th>\n",
       "    </tr>\n",
       "  </thead>\n",
       "  <tbody>\n",
       "    <tr>\n",
       "      <th>0</th>\n",
       "      <td>201006</td>\n",
       "      <td>FC_Santa_Coloma</td>\n",
       "      <td>0</td>\n",
       "    </tr>\n",
       "    <tr>\n",
       "      <th>1</th>\n",
       "      <td>201006</td>\n",
       "      <td>Tre_Fiori</td>\n",
       "      <td>0</td>\n",
       "    </tr>\n",
       "    <tr>\n",
       "      <th>2</th>\n",
       "      <td>201007</td>\n",
       "      <td>AIK</td>\n",
       "      <td>1</td>\n",
       "    </tr>\n",
       "    <tr>\n",
       "      <th>3</th>\n",
       "      <td>201007</td>\n",
       "      <td>Ajax</td>\n",
       "      <td>1</td>\n",
       "    </tr>\n",
       "    <tr>\n",
       "      <th>4</th>\n",
       "      <td>201007</td>\n",
       "      <td>Aktobe</td>\n",
       "      <td>3</td>\n",
       "    </tr>\n",
       "    <tr>\n",
       "      <th>...</th>\n",
       "      <td>...</td>\n",
       "      <td>...</td>\n",
       "      <td>...</td>\n",
       "    </tr>\n",
       "    <tr>\n",
       "      <th>28238</th>\n",
       "      <td>202108</td>\n",
       "      <td>Toronto</td>\n",
       "      <td>1</td>\n",
       "    </tr>\n",
       "    <tr>\n",
       "      <th>28239</th>\n",
       "      <td>202108</td>\n",
       "      <td>Torque</td>\n",
       "      <td>0</td>\n",
       "    </tr>\n",
       "    <tr>\n",
       "      <th>28240</th>\n",
       "      <td>202108</td>\n",
       "      <td>Universidad_Chile</td>\n",
       "      <td>2</td>\n",
       "    </tr>\n",
       "    <tr>\n",
       "      <th>28241</th>\n",
       "      <td>202108</td>\n",
       "      <td>Vancouver_Whitecaps</td>\n",
       "      <td>2</td>\n",
       "    </tr>\n",
       "    <tr>\n",
       "      <th>28242</th>\n",
       "      <td>202108</td>\n",
       "      <td>Villa_Española</td>\n",
       "      <td>1</td>\n",
       "    </tr>\n",
       "  </tbody>\n",
       "</table>\n",
       "<p>28243 rows × 3 columns</p>\n",
       "</div>"
      ],
      "text/plain": [
       "       anomes       home_team_name  home_team_goal_count\n",
       "0      201006      FC_Santa_Coloma                     0\n",
       "1      201006            Tre_Fiori                     0\n",
       "2      201007                  AIK                     1\n",
       "3      201007                 Ajax                     1\n",
       "4      201007               Aktobe                     3\n",
       "...       ...                  ...                   ...\n",
       "28238  202108              Toronto                     1\n",
       "28239  202108               Torque                     0\n",
       "28240  202108    Universidad_Chile                     2\n",
       "28241  202108  Vancouver_Whitecaps                     2\n",
       "28242  202108       Villa_Española                     1\n",
       "\n",
       "[28243 rows x 3 columns]"
      ]
     },
     "execution_count": 23,
     "metadata": {},
     "output_type": "execute_result"
    }
   ],
   "source": [
    "dados.groupby(by=['anomes', 'home_team_name'])['home_team_goal_count'].sum().reset_index()"
   ]
  },
  {
   "cell_type": "code",
   "execution_count": 24,
   "metadata": {},
   "outputs": [],
   "source": [
    "dados.groupby(by=['home_team_name','anomes'])['home_team_goal_count'].mean().reset_index().rename(columns={'home_team_goal_count':'gols'}).to_csv('../3_bases_upload/gols.csv', sep=';', index=False)"
   ]
  },
  {
   "cell_type": "markdown",
   "metadata": {},
   "source": [
    "# Adicionando novos indicadores"
   ]
  },
  {
   "cell_type": "code",
   "execution_count": 25,
   "metadata": {},
   "outputs": [],
   "source": [
    "result = dados.groupby(by=['anomes', 'home_team_name']).agg({\n",
    "    'home_team_goal_count': 'mean',\n",
    "    'home_ppg': 'mean'\n",
    "}).reset_index()"
   ]
  },
  {
   "cell_type": "code",
   "execution_count": 26,
   "metadata": {},
   "outputs": [],
   "source": [
    "dados.groupby(by=['anomes', 'home_team_name']).agg({\n",
    "    'home_team_goal_count': 'mean',\n",
    "    'home_ppg': 'mean'\n",
    "}).reset_index().rename(columns={'home_team_goal_count': 'gols'}).to_csv('../3_bases_upload/gols.csv', sep=';', index=False)\n"
   ]
  },
  {
   "cell_type": "code",
   "execution_count": 27,
   "metadata": {},
   "outputs": [
    {
     "data": {
      "text/plain": [
       "Index(['date_gmt', 'status', 'attendance', 'home_team_name', 'away_team_name',\n",
       "       'referee', 'game week', 'pre-match ppg (home)', 'pre-match ppg (away)',\n",
       "       'home_ppg', 'away_ppg', 'home_team_goal_count', 'away_team_goal_count',\n",
       "       'total_goal_count', 'total_goals_at_half_time', 'datanova', 'ano',\n",
       "       'mes', 'anomes'],\n",
       "      dtype='object')"
      ]
     },
     "execution_count": 27,
     "metadata": {},
     "output_type": "execute_result"
    }
   ],
   "source": [
    "dados.columns"
   ]
  },
  {
   "cell_type": "code",
   "execution_count": 28,
   "metadata": {},
   "outputs": [
    {
     "data": {
      "text/plain": [
       "'2.2.3'"
      ]
     },
     "execution_count": 28,
     "metadata": {},
     "output_type": "execute_result"
    }
   ],
   "source": [
    "pd.__version__"
   ]
  },
  {
   "cell_type": "code",
   "execution_count": null,
   "metadata": {},
   "outputs": [],
   "source": []
  },
  {
   "cell_type": "code",
   "execution_count": 29,
   "metadata": {},
   "outputs": [],
   "source": [
    "!pip freeze > bibliotecas.txt"
   ]
  },
  {
   "cell_type": "code",
   "execution_count": null,
   "metadata": {},
   "outputs": [],
   "source": []
  }
 ],
 "metadata": {
  "kernelspec": {
   "display_name": "Projeto",
   "language": "python",
   "name": "python3"
  },
  "language_info": {
   "codemirror_mode": {
    "name": "ipython",
    "version": 3
   },
   "file_extension": ".py",
   "mimetype": "text/x-python",
   "name": "python",
   "nbconvert_exporter": "python",
   "pygments_lexer": "ipython3",
   "version": "3.12.7"
  },
  "orig_nbformat": 4
 },
 "nbformat": 4,
 "nbformat_minor": 2
}
