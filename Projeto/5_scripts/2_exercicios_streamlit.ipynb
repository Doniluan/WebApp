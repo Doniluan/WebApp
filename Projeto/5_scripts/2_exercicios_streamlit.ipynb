{
 "cells": [
  {
   "cell_type": "markdown",
   "metadata": {},
   "source": [
    "# Atividades Streamlit\n",
    "\n",
    "Agora que aprendemos os primeiros comandos com streamlit. Vamos particar. Você deve aplicar os comandos aprendidos e consultar novas possibilidades no link https://docs.streamlit.io/library/api-reference para criar uma aplicação visual dos dados que você coletou com seu robô do site da secretaria de segurança pública de São Paulo."
   ]
  },
  {
   "cell_type": "code",
   "execution_count": null,
   "metadata": {},
   "outputs": [],
   "source": []
  }
 ],
 "metadata": {
  "kernelspec": {
   "display_name": "Python 3.9.0 ('webappst': venv)",
   "language": "python",
   "name": "python3"
  },
  "language_info": {
   "name": "python",
   "version": "3.9.0"
  },
  "orig_nbformat": 4,
  "vscode": {
   "interpreter": {
    "hash": "b8c3673de586f6231e4739498a88a2a9db17080ffc56c59d6dc089d3161669b6"
   }
  }
 },
 "nbformat": 4,
 "nbformat_minor": 2
}
